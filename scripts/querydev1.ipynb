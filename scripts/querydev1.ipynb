{
 "cells": [
  {
   "cell_type": "code",
   "execution_count": 4,
   "metadata": {},
   "outputs": [],
   "source": [
    "\n",
    "import firebase_admin\n",
    "from firebase_admin import credentials, firestore\n",
    "\n",
    "\n",
    "service_account_path = \"/Users/narayanpowderly/Documents/atopile-workspace/package-registry-backend/atopile-880ca67acfe2.json\"\n",
    "\n",
    "if not firebase_admin._apps:  # Check if already initialized to prevent reinitialization\n",
    "    cred = credentials.Certificate(service_account_path)\n",
    "    firebase_admin.initialize_app(cred)\n",
    "\n",
    "db = firestore.client()\n",
    "_components_db = db.collection(\n",
    "    \"components\"\n",
    ")  "
   ]
  },
  {
   "cell_type": "code",
   "execution_count": 27,
   "metadata": {},
   "outputs": [],
   "source": [
    "import json\n",
    "\n",
    "\n",
    "def get_resistor(req_json, firestore_client):\n",
    "    # Get the component requirements\n",
    "    min_value = req_json.get(\"min_value\")\n",
    "    max_value = req_json.get(\"max_value\")\n",
    "    package = req_json.get(\"package\")\n",
    "\n",
    "    # Query for resistors in the Firestore collection\n",
    "    query = firestore_client.collection(\"components\").where(\"type\", \"==\", \"Resistor\")\n",
    "\n",
    "    # Execute the query and get results\n",
    "    results = query.stream()\n",
    "    components = [doc.to_dict() for doc in results]\n",
    "    print(len(components))\n",
    "\n",
    "    #Strip leading 'R' from the package\n",
    "    package = package[1:]\n",
    "\n",
    "    # Filter the components by the requirements\n",
    "    filtered_components = []\n",
    "    for component in components:\n",
    "        if min_value <= component[\"min_value\"] and max_value >= component[\"max_value\"] and component[\"Package\"] == package:\n",
    "            filtered_components.append(component)\n",
    "\n",
    "\n",
    "    # Remove any that are out of stock\n",
    "    filtered_components = [component for component in filtered_components if component[\"Stock\"] > 100]\n",
    "\n",
    "    # Find the cheapest component\n",
    "    best_resistor = min(filtered_components, key=lambda component: component[\"Price (USD)\"])\n",
    "\n",
    "    # Send back a JSON response with the cheapest resistor\n",
    "    return json.dumps(best_resistor)"
   ]
  },
  {
   "cell_type": "code",
   "execution_count": 31,
   "metadata": {},
   "outputs": [
    {
     "name": "stdout",
     "output_type": "stream",
     "text": [
      "1489\n"
     ]
    },
    {
     "data": {
      "text/plain": [
       "'{\"value\": 1.0, \"type\": \"Resistor\", \"basic-extended\": \"Basic\", \"Description\": \"CHIP RESISTOR - SURFACE MOUNT 1KOHMS \\\\u00b11% 1/8W 0805 ROHS\", \"Price (USD)\": 0.0027, \"Stock\": 1957712.0, \"code\": NaN, \"Datasheet\": \"https://datasheet.lcsc.com/szlcsc/Uniroyal-Elec-0805W8F1001T5E_C17513.pdf\", \"Type\": \"CHIP RESISTOR - SURFACE MOUNT\", \"Package\": \"0805\", \"voltage\": NaN, \"min_value\": 990.0, \"MFR.Part #\": \"0805W8F1001T5E\", \"tolerance\": 1.0, \"value_in_ohms\": NaN, \"unit\": \"K\\\\u03a9\", \"LCSC Part #\": \"C17513\", \"Comment\": NaN, \"value_in_farads\": NaN, \"Category\": NaN, \"dielectric\": NaN, \"max_value\": 1010.0}'"
      ]
     },
     "execution_count": 31,
     "metadata": {},
     "output_type": "execute_result"
    }
   ],
   "source": [
    "payload = {\n",
    "    \"type\": \"Resistor\",\n",
    "    \"min_value\": 900,\n",
    "    \"max_value\": 1100,\n",
    "    \"package\": \"R0805\"\n",
    "}\n",
    "\n",
    "get_resistor(payload, db)"
   ]
  },
  {
   "cell_type": "code",
   "execution_count": 52,
   "metadata": {},
   "outputs": [],
   "source": [
    "def get_mosfet(req_json, firestore_client):\n",
    "# example json:\n",
    "# {\n",
    "#     \"polarity\": \"N Channel\",\n",
    "#     \"drain_source_voltage_V\": 5,\n",
    "#     \"current_A\": 0.1,\n",
    "#     \"on_resistance_ohms\": \"0.1\",\n",
    "#     \"power_dissipation_W\": \"23\"\n",
    "# }\n",
    "    query = firestore_client.collection(\"mosfets\").where(\"type\", \"==\", req_json[\"polarity\"])\n",
    "    results = query.stream()\n",
    "    components = [doc.to_dict() for doc in results]\n",
    "    # print(len(components))\n",
    "    print(components[0])\n",
    "\n",
    "    filtered_components = []\n",
    "    for component in components:\n",
    "        if component[\"drain_source_voltage_V\"] >= req_json[\"drain_source_voltage_V\"] and component[\"current_A\"] >= req_json[\"current_A\"]:# and component[\"on_resistance_ohms\"] <= req_json[\"on_resistance_ohms\"] and component[\"power_dissipation_W\"] >= req_json[\"power_dissipation_W\"]:\n",
    "            filtered_components.append(component)\n",
    "    print(len(filtered_components))\n",
    "    best_mosfet = min(filtered_components, key=lambda component: component[\"Price\"][0][\"price\"])\n",
    "\n"
   ]
  },
  {
   "cell_type": "code",
   "execution_count": 53,
   "metadata": {},
   "outputs": [
    {
     "name": "stderr",
     "output_type": "stream",
     "text": [
      "/Users/narayanpowderly/Documents/atopile-workspace/.venv/lib/python3.11/site-packages/google/cloud/firestore_v1/base_collection.py:295: UserWarning: Detected filter using positional arguments. Prefer using the 'filter' keyword argument instead.\n",
      "  return query.where(field_path, op_string, value)\n"
     ]
    },
    {
     "name": "stdout",
     "output_type": "stream",
     "text": [
      "{'Assembly Type': 'Wave SolderingA PCB assembly fixture is needed to protect and support this part during the assembly process.', 'Stock': 0, 'type': 'N Channel', 'Price': [{'quantity': '1+', 'price': 5.085}, {'quantity': '10+', 'price': 4.449}, {'quantity': '30+', 'price': 3.7035}, {'quantity': '90+', 'price': 3.321}, {'quantity': '450+', 'price': 3.1455}, {'quantity': '900+', 'price': 3.066}], 'Description': '500V 28A 310W 155mΩ@10V,14A N Channel TO-3P  MOSFETs ROHS', 'CAD Model': 'PCB Footprint or Symbol', 'Datasheet': 'Download', 'current_A': '28', 'on_resistance_ohms': '0.155', 'Source': 'JLCPCB', 'JLCPCB Part #': 'C105685', 'Package': 'TO-3P-3', 'drain_source_voltage_V': '500', 'MFR.Part #': 'FDA28N50', 'footprint': '(module easyeda2kicad:TO-220IS_L10.16-W4.7-P2.54-L (layer F.Cu) (tedit 5DC5F6A4)\\n\\t(attr smd)\\n\\t(fp_text reference REF** (at 0 -4.0) (layer F.SilkS)\\n\\t\\t(effects (font (size 1 1) (thickness 0.15)))\\n\\t)\\n\\t(fp_text value TO-220IS_L10.16-W4.7-P2.54-L (at 0 4.0) (layer F.Fab)\\n\\t\\t(effects (font (size 1 1) (thickness 0.15)))\\n\\t)\\n\\t(fp_text user %R (at 0 0) (layer F.Fab)\\n\\t\\t(effects (font (size 1 1) (thickness 0.15)))\\n\\t)\\n\\t(fp_line (start -5.30 -2.80) (end 5.30 -2.80) (layer F.SilkS) (width 0.25))\\n\\t(fp_line (start 5.30 -2.80) (end 5.30 2.00) (layer F.SilkS) (width 0.25))\\n\\t(fp_line (start 5.30 2.00) (end -5.30 2.00) (layer F.SilkS) (width 0.25))\\n\\t(fp_line (start -5.30 2.00) (end -5.30 -2.80) (layer F.SilkS) (width 0.25))\\n\\t(fp_line (start 5.30 -2.30) (end -5.30 -2.30) (layer F.SilkS) (width 0.25))\\n\\t(pad 1 thru_hole rect (at -2.54 0.00 0.00) (size 2.00 2.50) (layers *.Cu *.Mask)(drill 1.3000228))\\n\\t(pad 3 thru_hole oval (at 2.54 0.00 0.00) (size 2.00 2.50) (layers *.Cu *.Mask)(drill 1.3000228))\\n\\t(pad 2 thru_hole oval (at 0.00 0.00 0.00) (size 2.00 2.50) (layers *.Cu *.Mask)(drill 1.3000228))\\n\\t(fp_circle (center -5.43 2.94) (end -5.40 2.94) (layer F.Fab) (width 0.06))\\n\\t(fp_circle (center -2.54 0.00) (end -2.26 0.00) (layer F.Fab) (width 0.55))\\n\\t(fp_circle (center 2.54 0.00) (end 2.82 0.00) (layer F.Fab) (width 0.55))\\n\\t(fp_circle (center 0.00 0.00) (end 0.28 0.00) (layer F.Fab) (width 0.55))\\n\\t(fp_arc (start -2.54 2.54) (end -2.54 2.54) (angle -359.00) (layer F.SilkS) (width 0.40))\\n\\t(model \"/Users/narayanpowderly/Documents/atopile-workspace/package-manager/temp//lib.3dshapes/TO-220IS_L10.16-W4.7-P2.54-L.wrl\"\\n\\t\\t(offset (xyz 0.000 0.650 5.000))\\n\\t\\t(scale (xyz 1 1 1))\\n\\t\\t(rotate (xyz 0 0 0))\\n\\t)\\n)', 'Manufacturer': 'onsemi', 'power_dissipation_W': '310'}\n",
      "290\n"
     ]
    },
    {
     "ename": "IndexError",
     "evalue": "list index out of range",
     "output_type": "error",
     "traceback": [
      "\u001b[0;31m---------------------------------------------------------------------------\u001b[0m",
      "\u001b[0;31mIndexError\u001b[0m                                Traceback (most recent call last)",
      "Cell \u001b[0;32mIn[53], line 11\u001b[0m\n\u001b[1;32m      1\u001b[0m \u001b[38;5;66;03m# \u001b[39;00m\n\u001b[1;32m      3\u001b[0m query \u001b[38;5;241m=\u001b[39m {\n\u001b[1;32m      4\u001b[0m     \u001b[38;5;124m\"\u001b[39m\u001b[38;5;124mpolarity\u001b[39m\u001b[38;5;124m\"\u001b[39m: \u001b[38;5;124m\"\u001b[39m\u001b[38;5;124mN Channel\u001b[39m\u001b[38;5;124m\"\u001b[39m,\n\u001b[1;32m      5\u001b[0m     \u001b[38;5;124m\"\u001b[39m\u001b[38;5;124mdrain_source_voltage_V\u001b[39m\u001b[38;5;124m\"\u001b[39m: \u001b[38;5;124m\"\u001b[39m\u001b[38;5;124m30\u001b[39m\u001b[38;5;124m\"\u001b[39m,\n\u001b[0;32m   (...)\u001b[0m\n\u001b[1;32m      8\u001b[0m     \u001b[38;5;124m\"\u001b[39m\u001b[38;5;124mpower_dissipation_W\u001b[39m\u001b[38;5;124m\"\u001b[39m: \u001b[38;5;124m\"\u001b[39m\u001b[38;5;124m23\u001b[39m\u001b[38;5;124m\"\u001b[39m\n\u001b[1;32m      9\u001b[0m }\n\u001b[0;32m---> 11\u001b[0m \u001b[43mget_mosfet\u001b[49m\u001b[43m(\u001b[49m\u001b[43mquery\u001b[49m\u001b[43m,\u001b[49m\u001b[43m \u001b[49m\u001b[43mdb\u001b[49m\u001b[43m)\u001b[49m\n",
      "Cell \u001b[0;32mIn[52], line 21\u001b[0m, in \u001b[0;36mget_mosfet\u001b[0;34m(req_json, firestore_client)\u001b[0m\n\u001b[1;32m     19\u001b[0m         filtered_components\u001b[38;5;241m.\u001b[39mappend(component)\n\u001b[1;32m     20\u001b[0m \u001b[38;5;28mprint\u001b[39m(\u001b[38;5;28mlen\u001b[39m(filtered_components))\n\u001b[0;32m---> 21\u001b[0m best_mosfet \u001b[38;5;241m=\u001b[39m \u001b[38;5;28;43mmin\u001b[39;49m\u001b[43m(\u001b[49m\u001b[43mfiltered_components\u001b[49m\u001b[43m,\u001b[49m\u001b[43m \u001b[49m\u001b[43mkey\u001b[49m\u001b[38;5;241;43m=\u001b[39;49m\u001b[38;5;28;43;01mlambda\u001b[39;49;00m\u001b[43m \u001b[49m\u001b[43mcomponent\u001b[49m\u001b[43m:\u001b[49m\u001b[43m \u001b[49m\u001b[43mcomponent\u001b[49m\u001b[43m[\u001b[49m\u001b[38;5;124;43m\"\u001b[39;49m\u001b[38;5;124;43mPrice\u001b[39;49m\u001b[38;5;124;43m\"\u001b[39;49m\u001b[43m]\u001b[49m\u001b[43m[\u001b[49m\u001b[38;5;241;43m0\u001b[39;49m\u001b[43m]\u001b[49m\u001b[43m[\u001b[49m\u001b[38;5;124;43m\"\u001b[39;49m\u001b[38;5;124;43mprice\u001b[39;49m\u001b[38;5;124;43m\"\u001b[39;49m\u001b[43m]\u001b[49m\u001b[43m)\u001b[49m\n",
      "Cell \u001b[0;32mIn[52], line 21\u001b[0m, in \u001b[0;36mget_mosfet.<locals>.<lambda>\u001b[0;34m(component)\u001b[0m\n\u001b[1;32m     19\u001b[0m         filtered_components\u001b[38;5;241m.\u001b[39mappend(component)\n\u001b[1;32m     20\u001b[0m \u001b[38;5;28mprint\u001b[39m(\u001b[38;5;28mlen\u001b[39m(filtered_components))\n\u001b[0;32m---> 21\u001b[0m best_mosfet \u001b[38;5;241m=\u001b[39m \u001b[38;5;28mmin\u001b[39m(filtered_components, key\u001b[38;5;241m=\u001b[39m\u001b[38;5;28;01mlambda\u001b[39;00m component: \u001b[43mcomponent\u001b[49m\u001b[43m[\u001b[49m\u001b[38;5;124;43m\"\u001b[39;49m\u001b[38;5;124;43mPrice\u001b[39;49m\u001b[38;5;124;43m\"\u001b[39;49m\u001b[43m]\u001b[49m\u001b[43m[\u001b[49m\u001b[38;5;241;43m0\u001b[39;49m\u001b[43m]\u001b[49m[\u001b[38;5;124m\"\u001b[39m\u001b[38;5;124mprice\u001b[39m\u001b[38;5;124m\"\u001b[39m])\n",
      "\u001b[0;31mIndexError\u001b[0m: list index out of range"
     ]
    }
   ],
   "source": [
    "#\n",
    "\n",
    "query = {\n",
    "    \"polarity\": \"N Channel\",\n",
    "    \"drain_source_voltage_V\": \"30\",\n",
    "    \"current_A\": \"100\",\n",
    "    \"on_resistance_ohms\": \"0.1\",\n",
    "    \"power_dissipation_W\": \"23\"\n",
    "}\n",
    "\n",
    "get_mosfet(query, db)"
   ]
  },
  {
   "cell_type": "code",
   "execution_count": null,
   "metadata": {},
   "outputs": [],
   "source": [
    "# Reference to the collection\n",
    "mosfets_collection = db.collection('mosfets')\n",
    "\n",
    "# Fetch documents\n",
    "docs = mosfets_collection.stream()\n",
    "\n",
    "for doc in docs:\n",
    "    doc_data = doc.to_dict()\n",
    "\n",
    "    # Convert numeric fields from string to actual numbers\n",
    "    doc_data['Stock'] = int(doc_data['Stock'])\n",
    "    doc_data['current_A'] = float(doc_data['current_A'])\n",
    "    doc_data['on_resistance_ohms'] = float(doc_data['on_resistance_ohms'])\n",
    "    doc_data['drain_source_voltage_V'] = float(doc_data['drain_source_voltage_V'])\n",
    "    doc_data['power_dissipation_W'] = float(doc_data['power_dissipation_W'])\n",
    "    for price in doc_data['Price']:\n",
    "        price['price'] = float(price['price'])\n",
    "\n",
    "    # Rename 'type' to 'polarity' and add new 'type'\n",
    "    doc_data['polarity'] = doc_data.pop('type')\n",
    "    doc_data['type'] = 'mosfet'\n",
    "\n",
    "    # Update the document\n",
    "    mosfets_collection.document(doc.id).set(doc_data)"
   ]
  }
 ],
 "metadata": {
  "kernelspec": {
   "display_name": ".venv",
   "language": "python",
   "name": "python3"
  },
  "language_info": {
   "codemirror_mode": {
    "name": "ipython",
    "version": 3
   },
   "file_extension": ".py",
   "mimetype": "text/x-python",
   "name": "python",
   "nbconvert_exporter": "python",
   "pygments_lexer": "ipython3",
   "version": "3.11.6"
  }
 },
 "nbformat": 4,
 "nbformat_minor": 2
}
