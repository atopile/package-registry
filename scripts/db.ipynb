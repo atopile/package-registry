{
 "cells": [
  {
   "cell_type": "code",
   "execution_count": 5,
   "metadata": {},
   "outputs": [
    {
     "name": "stdout",
     "output_type": "stream",
     "text": [
      "components\n",
      "manufacturers\n",
      "categories\n"
     ]
    }
   ],
   "source": [
    "import sqlite3\n",
    "import pandas as pd\n",
    "\n",
    "# Replace with the path to your .sqlite3 file\n",
    "database_path = '../jlcparts.sqlite3'\n",
    "\n",
    "# Connect to the SQLite database\n",
    "conn = sqlite3.connect(database_path)\n",
    "\n",
    "# Create a cursor object using the connection\n",
    "cur = conn.cursor()\n",
    "\n",
    "# This query selects all table names in the database\n",
    "cur.execute(\"SELECT name FROM sqlite_master WHERE type='table';\")\n",
    "\n",
    "# Fetch all results\n",
    "tables = cur.fetchall()\n",
    "\n",
    "# Close the connection\n",
    "conn.close()\n",
    "\n",
    "# Print the list of tables\n",
    "for table in tables:\n",
    "    print(table[0])"
   ]
  },
  {
   "cell_type": "code",
   "execution_count": 8,
   "metadata": {},
   "outputs": [
    {
     "name": "stdout",
     "output_type": "stream",
     "text": [
      "Index(['lcsc', 'category_id', 'mfr', 'package', 'joints', 'manufacturer_id',\n",
      "       'basic', 'description', 'datasheet', 'stock', 'price', 'last_update',\n",
      "       'extra', 'flag', 'last_on_stock', 'preferred'],\n",
      "      dtype='object')\n"
     ]
    }
   ],
   "source": [
    "\n",
    "# Connect to the SQLite database\n",
    "conn = sqlite3.connect(database_path)\n",
    "\n",
    "# Write your SQL query - this example selects everything from a table named 'your_table_name'\n",
    "query = 'SELECT * FROM components'\n",
    "\n",
    "# Load the data into a Pandas DataFrame\n",
    "df = pd.read_sql_query(query, conn)\n",
    "\n",
    "# Close the connection\n",
    "conn.close()\n",
    "\n",
    "# Now you can work with the data in the DataFrame\n",
    "# print(df.head())\n",
    "\n",
    "# print all the column names\n",
    "print(df.columns)"
   ]
  },
  {
   "cell_type": "code",
   "execution_count": 11,
   "metadata": {},
   "outputs": [
    {
     "name": "stdout",
     "output_type": "stream",
     "text": [
      "187079\n"
     ]
    }
   ],
   "source": [
    "# print all the category_id values that are unique\n",
    "# print(df.category_id.unique())\n",
    "\n",
    "# get all the components where stock is greater than 0\n",
    "stock = df[df['stock'] > 100]\n",
    "# print(stock)\n",
    "print(len(stock))"
   ]
  },
  {
   "cell_type": "code",
   "execution_count": 7,
   "metadata": {},
   "outputs": [
    {
     "name": "stdout",
     "output_type": "stream",
     "text": [
      "3920803\n"
     ]
    }
   ],
   "source": [
    "print(len(df))"
   ]
  },
  {
   "cell_type": "code",
   "execution_count": null,
   "metadata": {},
   "outputs": [],
   "source": []
  }
 ],
 "metadata": {
  "kernelspec": {
   "display_name": ".venv",
   "language": "python",
   "name": "python3"
  },
  "language_info": {
   "codemirror_mode": {
    "name": "ipython",
    "version": 3
   },
   "file_extension": ".py",
   "mimetype": "text/x-python",
   "name": "python",
   "nbconvert_exporter": "python",
   "pygments_lexer": "ipython3",
   "version": "3.11.4"
  }
 },
 "nbformat": 4,
 "nbformat_minor": 2
}
