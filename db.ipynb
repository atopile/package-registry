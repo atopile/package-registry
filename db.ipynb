{
 "cells": [
  {
   "cell_type": "code",
   "execution_count": 4,
   "metadata": {},
   "outputs": [
    {
     "name": "stdout",
     "output_type": "stream",
     "text": [
      "components\n",
      "manufacturers\n",
      "categories\n"
     ]
    }
   ],
   "source": [
    "import sqlite3\n",
    "import pandas as pd\n",
    "\n",
    "# Replace with the path to your .sqlite3 file\n",
    "database_path = 'jlcparts.sqlite3'\n",
    "\n",
    "# Connect to the SQLite database\n",
    "conn = sqlite3.connect(database_path)\n",
    "\n",
    "# Create a cursor object using the connection\n",
    "cur = conn.cursor()\n",
    "\n",
    "# This query selects all table names in the database\n",
    "cur.execute(\"SELECT name FROM sqlite_master WHERE type='table';\")\n",
    "\n",
    "# Fetch all results\n",
    "tables = cur.fetchall()\n",
    "\n",
    "# Close the connection\n",
    "conn.close()\n",
    "\n",
    "# Print the list of tables\n",
    "for table in tables:\n",
    "    print(table[0])"
   ]
  },
  {
   "cell_type": "code",
   "execution_count": 10,
   "metadata": {},
   "outputs": [
    {
     "name": "stdout",
     "output_type": "stream",
     "text": [
      "   lcsc  category_id                  mfr package  joints  manufacturer_id  \\\n",
      "0  1002            1         GZ1608D601TF    0603       2                1   \n",
      "1  1003            1         GZ1608D151TF    0603       2                1   \n",
      "2  1005            1  CBG160 808U8-20T #A    0603       2                2   \n",
      "3  1006            1       CBG160808U600T    0603       2                2   \n",
      "4  1007            1       CBG160808U680T    0603       2                2   \n",
      "\n",
      "   basic                                      description  \\\n",
      "0      1  450mΩ ±25% 600Ω@100MHz 0603  Ferrite Beads ROHS   \n",
      "1      0        ±25% 150Ω@100MHz 0603  Ferrite Beads ROHS   \n",
      "2      0                         0603  Ferrite Beads ROHS   \n",
      "3      0   200mΩ ±25% 60Ω@100MHz 0603  Ferrite Beads ROHS   \n",
      "4      0         ±25% 68Ω@100MHz 0603  Ferrite Beads ROHS   \n",
      "\n",
      "                                           datasheet   stock  \\\n",
      "0  https://datasheet.lcsc.com/lcsc/2109180930_Sun...  823652   \n",
      "1  https://datasheet.lcsc.com/lcsc/2109180930_Sun...    4638   \n",
      "2  https://datasheet.lcsc.com/lcsc/1811061811_FH-...      80   \n",
      "3  https://datasheet.lcsc.com/lcsc/1811111512_FH-...   23787   \n",
      "4  https://datasheet.lcsc.com/lcsc/1811061810_FH-...    4152   \n",
      "\n",
      "                                               price  last_update  \\\n",
      "0  [{\"qFrom\": 20, \"qTo\": 180, \"price\": 0.00428571...   1682999876   \n",
      "1  [{\"qFrom\": 20, \"qTo\": 180, \"price\": 0.00432857...   1683085759   \n",
      "2  [{\"qFrom\": 20, \"qTo\": 180, \"price\": 0.00304285...   1683000003   \n",
      "3  [{\"qFrom\": 20, \"qTo\": 180, \"price\": 0.00284285...   1682999799   \n",
      "4  [{\"qFrom\": 20, \"qTo\": 180, \"price\": 0.0034}, {...   1682913311   \n",
      "\n",
      "                                               extra  flag  last_on_stock  \\\n",
      "0  {\"id\": 1354, \"number\": \"C1002\", \"category\": {\"...     1     1704685975   \n",
      "1  {\"id\": 1355, \"number\": \"C1003\", \"category\": {\"...     1     1704685975   \n",
      "2  {\"id\": 1357, \"number\": \"C1005\", \"category\": {\"...     1     1704685975   \n",
      "3  {\"id\": 1358, \"number\": \"C1006\", \"category\": {\"...     1     1704685975   \n",
      "4  {\"id\": 1359, \"number\": \"C1007\", \"category\": {\"...     1     1704685975   \n",
      "\n",
      "   preferred  \n",
      "0          0  \n",
      "1          0  \n",
      "2          0  \n",
      "3          0  \n",
      "4          0  \n"
     ]
    }
   ],
   "source": [
    "\n",
    "# Connect to the SQLite database\n",
    "conn = sqlite3.connect(database_path)\n",
    "\n",
    "# Write your SQL query - this example selects everything from a table named 'your_table_name'\n",
    "query = 'SELECT * FROM components'\n",
    "\n",
    "# Load the data into a Pandas DataFrame\n",
    "df = pd.read_sql_query(query, conn)\n",
    "\n",
    "# Close the connection\n",
    "conn.close()\n",
    "\n",
    "# Now you can work with the data in the DataFrame\n",
    "print(df.head())"
   ]
  },
  {
   "cell_type": "code",
   "execution_count": 9,
   "metadata": {},
   "outputs": [
    {
     "name": "stdout",
     "output_type": "stream",
     "text": [
      "Index(['id', 'category', 'subcategory'], dtype='object')\n"
     ]
    }
   ],
   "source": [
    "# print all the column names\n",
    "print(df.columns)"
   ]
  },
  {
   "cell_type": "code",
   "execution_count": 7,
   "metadata": {},
   "outputs": [
    {
     "name": "stdout",
     "output_type": "stream",
     "text": [
      "3920803\n"
     ]
    }
   ],
   "source": [
    "print(len(df))"
   ]
  },
  {
   "cell_type": "code",
   "execution_count": null,
   "metadata": {},
   "outputs": [],
   "source": []
  }
 ],
 "metadata": {
  "kernelspec": {
   "display_name": ".venv",
   "language": "python",
   "name": "python3"
  },
  "language_info": {
   "codemirror_mode": {
    "name": "ipython",
    "version": 3
   },
   "file_extension": ".py",
   "mimetype": "text/x-python",
   "name": "python",
   "nbconvert_exporter": "python",
   "pygments_lexer": "ipython3",
   "version": "3.11.4"
  }
 },
 "nbformat": 4,
 "nbformat_minor": 2
}
